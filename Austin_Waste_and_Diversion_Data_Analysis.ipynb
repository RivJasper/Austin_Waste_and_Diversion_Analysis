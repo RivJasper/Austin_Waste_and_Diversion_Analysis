{
 "cells": [
  {
   "attachments": {},
   "cell_type": "markdown",
   "metadata": {},
   "source": [
    "# Austin Waste and Diversion Data Analysis"
   ]
  },
  {
   "cell_type": "markdown",
   "metadata": {},
   "source": [
    "## Working Area"
   ]
  },
  {
   "cell_type": "markdown",
   "metadata": {},
   "source": [
    "### Dataset\n",
    "Extracting the data from BigQuery using the following commands *:\n",
    "<br>\n",
    "`SELECT report_date, load_time, load_type, load_weight, dropoff_site`\n",
    "<br>\n",
    "`FROM bigquery-public-data.austin_waste.waste_and_diversion`\n",
    "<br>\n",
    "`WHERE report_date BETWEEN '2021-01-01' AND '2021-07-09'`\n",
    "<br>\n",
    "\n",
    "The command given prior will give the data from column report_date, load_time, load_type, load_weight, and dropoff_site.\n",
    "<br>\n",
    "Download the data as csv and save it as h8dsft_P0GC2_rivaldo_jasper.\n",
    "<br>\n",
    "(*) Remove the `<br>` if you are copying the command from Editor Mode"
   ]
  },
  {
   "cell_type": "code",
   "execution_count": 203,
   "metadata": {},
   "outputs": [],
   "source": [
    "# Importing Libraries and give them an alias\n",
    "import pandas as pd\n",
    "import numpy as np\n",
    "import matplotlib.pyplot as plt\n",
    "import scipy.stats\n",
    "from scipy import stats\n",
    "from scipy.stats import norm"
   ]
  },
  {
   "cell_type": "code",
   "execution_count": 117,
   "metadata": {},
   "outputs": [],
   "source": [
    "# Importing data that has been extracted from BigQuery as dataframe using Pandas\n",
    "df = pd.read_csv('Austin_Waste_and_Diversion_Data_Analysis.csv')"
   ]
  },
  {
   "cell_type": "code",
   "execution_count": 118,
   "metadata": {},
   "outputs": [
    {
     "data": {
      "text/html": [
       "<div>\n",
       "<style scoped>\n",
       "    .dataframe tbody tr th:only-of-type {\n",
       "        vertical-align: middle;\n",
       "    }\n",
       "\n",
       "    .dataframe tbody tr th {\n",
       "        vertical-align: top;\n",
       "    }\n",
       "\n",
       "    .dataframe thead th {\n",
       "        text-align: right;\n",
       "    }\n",
       "</style>\n",
       "<table border=\"1\" class=\"dataframe\">\n",
       "  <thead>\n",
       "    <tr style=\"text-align: right;\">\n",
       "      <th></th>\n",
       "      <th>report_date</th>\n",
       "      <th>load_time</th>\n",
       "      <th>load_type</th>\n",
       "      <th>load_weight</th>\n",
       "      <th>dropoff_site</th>\n",
       "    </tr>\n",
       "  </thead>\n",
       "  <tbody>\n",
       "    <tr>\n",
       "      <th>0</th>\n",
       "      <td>2021-07-08</td>\n",
       "      <td>2021-07-08 12:00:00.000000 UTC</td>\n",
       "      <td>TIRES</td>\n",
       "      <td>2260.0</td>\n",
       "      <td>MRF</td>\n",
       "    </tr>\n",
       "    <tr>\n",
       "      <th>1</th>\n",
       "      <td>2021-07-08</td>\n",
       "      <td>2021-07-08 11:00:00.000000 UTC</td>\n",
       "      <td>TIRES</td>\n",
       "      <td>1260.0</td>\n",
       "      <td>MRF</td>\n",
       "    </tr>\n",
       "    <tr>\n",
       "      <th>2</th>\n",
       "      <td>2021-07-08</td>\n",
       "      <td>2021-07-08 03:00:00.000000 UTC</td>\n",
       "      <td>TIRES</td>\n",
       "      <td>800.0</td>\n",
       "      <td>MRF</td>\n",
       "    </tr>\n",
       "    <tr>\n",
       "      <th>3</th>\n",
       "      <td>2021-05-01</td>\n",
       "      <td>2021-05-01 12:29:00.000000 UTC</td>\n",
       "      <td>TIRES</td>\n",
       "      <td>760.0</td>\n",
       "      <td>MRF</td>\n",
       "    </tr>\n",
       "    <tr>\n",
       "      <th>4</th>\n",
       "      <td>2021-07-03</td>\n",
       "      <td>2021-07-03 12:09:00.000000 UTC</td>\n",
       "      <td>TIRES</td>\n",
       "      <td>1400.0</td>\n",
       "      <td>MRF</td>\n",
       "    </tr>\n",
       "  </tbody>\n",
       "</table>\n",
       "</div>"
      ],
      "text/plain": [
       "  report_date                       load_time load_type  load_weight  \\\n",
       "0  2021-07-08  2021-07-08 12:00:00.000000 UTC     TIRES       2260.0   \n",
       "1  2021-07-08  2021-07-08 11:00:00.000000 UTC     TIRES       1260.0   \n",
       "2  2021-07-08  2021-07-08 03:00:00.000000 UTC     TIRES        800.0   \n",
       "3  2021-05-01  2021-05-01 12:29:00.000000 UTC     TIRES        760.0   \n",
       "4  2021-07-03  2021-07-03 12:09:00.000000 UTC     TIRES       1400.0   \n",
       "\n",
       "  dropoff_site  \n",
       "0          MRF  \n",
       "1          MRF  \n",
       "2          MRF  \n",
       "3          MRF  \n",
       "4          MRF  "
      ]
     },
     "execution_count": 118,
     "metadata": {},
     "output_type": "execute_result"
    }
   ],
   "source": [
    "# Showing the top 5 rows from the dataset\n",
    "df.head()"
   ]
  },
  {
   "cell_type": "code",
   "execution_count": 119,
   "metadata": {},
   "outputs": [
    {
     "data": {
      "text/html": [
       "<div>\n",
       "<style scoped>\n",
       "    .dataframe tbody tr th:only-of-type {\n",
       "        vertical-align: middle;\n",
       "    }\n",
       "\n",
       "    .dataframe tbody tr th {\n",
       "        vertical-align: top;\n",
       "    }\n",
       "\n",
       "    .dataframe thead th {\n",
       "        text-align: right;\n",
       "    }\n",
       "</style>\n",
       "<table border=\"1\" class=\"dataframe\">\n",
       "  <thead>\n",
       "    <tr style=\"text-align: right;\">\n",
       "      <th></th>\n",
       "      <th>report_date</th>\n",
       "      <th>load_time</th>\n",
       "      <th>load_type</th>\n",
       "      <th>load_weight</th>\n",
       "      <th>dropoff_site</th>\n",
       "    </tr>\n",
       "  </thead>\n",
       "  <tbody>\n",
       "    <tr>\n",
       "      <th>26152</th>\n",
       "      <td>2021-03-01</td>\n",
       "      <td>2021-03-01 11:26:00.000000 UTC</td>\n",
       "      <td>ORGANICS</td>\n",
       "      <td>12100.0</td>\n",
       "      <td>ORGANICS BY GOSH</td>\n",
       "    </tr>\n",
       "    <tr>\n",
       "      <th>26153</th>\n",
       "      <td>2021-03-01</td>\n",
       "      <td>2021-03-01 04:27:00.000000 UTC</td>\n",
       "      <td>ORGANICS</td>\n",
       "      <td>10900.0</td>\n",
       "      <td>ORGANICS BY GOSH</td>\n",
       "    </tr>\n",
       "    <tr>\n",
       "      <th>26154</th>\n",
       "      <td>2021-03-01</td>\n",
       "      <td>2021-03-01 05:55:00.000000 UTC</td>\n",
       "      <td>ORGANICS</td>\n",
       "      <td>21800.0</td>\n",
       "      <td>ORGANICS BY GOSH</td>\n",
       "    </tr>\n",
       "    <tr>\n",
       "      <th>26155</th>\n",
       "      <td>2021-03-01</td>\n",
       "      <td>2021-03-02 01:10:00.000000 UTC</td>\n",
       "      <td>ORGANICS</td>\n",
       "      <td>5640.0</td>\n",
       "      <td>ORGANICS BY GOSH</td>\n",
       "    </tr>\n",
       "    <tr>\n",
       "      <th>26156</th>\n",
       "      <td>2021-03-01</td>\n",
       "      <td>2021-03-01 10:22:00.000000 UTC</td>\n",
       "      <td>RECYCLED METAL</td>\n",
       "      <td>360.0</td>\n",
       "      <td>AUSTIN IRON AND METAL</td>\n",
       "    </tr>\n",
       "  </tbody>\n",
       "</table>\n",
       "</div>"
      ],
      "text/plain": [
       "      report_date                       load_time       load_type  \\\n",
       "26152  2021-03-01  2021-03-01 11:26:00.000000 UTC        ORGANICS   \n",
       "26153  2021-03-01  2021-03-01 04:27:00.000000 UTC        ORGANICS   \n",
       "26154  2021-03-01  2021-03-01 05:55:00.000000 UTC        ORGANICS   \n",
       "26155  2021-03-01  2021-03-02 01:10:00.000000 UTC        ORGANICS   \n",
       "26156  2021-03-01  2021-03-01 10:22:00.000000 UTC  RECYCLED METAL   \n",
       "\n",
       "       load_weight           dropoff_site  \n",
       "26152      12100.0       ORGANICS BY GOSH  \n",
       "26153      10900.0       ORGANICS BY GOSH  \n",
       "26154      21800.0       ORGANICS BY GOSH  \n",
       "26155       5640.0       ORGANICS BY GOSH  \n",
       "26156        360.0  AUSTIN IRON AND METAL  "
      ]
     },
     "execution_count": 119,
     "metadata": {},
     "output_type": "execute_result"
    }
   ],
   "source": [
    "# Showing the bottom 5 rows from the dataset\n",
    "df.tail()"
   ]
  },
  {
   "cell_type": "markdown",
   "metadata": {},
   "source": [
    "### Problem 1\n",
    "#### 1. Data Cleaning"
   ]
  },
  {
   "cell_type": "code",
   "execution_count": 120,
   "metadata": {},
   "outputs": [
    {
     "data": {
      "text/html": [
       "<div>\n",
       "<style scoped>\n",
       "    .dataframe tbody tr th:only-of-type {\n",
       "        vertical-align: middle;\n",
       "    }\n",
       "\n",
       "    .dataframe tbody tr th {\n",
       "        vertical-align: top;\n",
       "    }\n",
       "\n",
       "    .dataframe thead th {\n",
       "        text-align: right;\n",
       "    }\n",
       "</style>\n",
       "<table border=\"1\" class=\"dataframe\">\n",
       "  <thead>\n",
       "    <tr style=\"text-align: right;\">\n",
       "      <th></th>\n",
       "      <th>report_date</th>\n",
       "      <th>load_time</th>\n",
       "      <th>load_type</th>\n",
       "      <th>load_weight</th>\n",
       "      <th>dropoff_site</th>\n",
       "    </tr>\n",
       "  </thead>\n",
       "  <tbody>\n",
       "    <tr>\n",
       "      <th>0</th>\n",
       "      <td>2021-07-08</td>\n",
       "      <td>2021-07-08 12:00:00.000000 UTC</td>\n",
       "      <td>TIRES</td>\n",
       "      <td>2260.0</td>\n",
       "      <td>MRF</td>\n",
       "    </tr>\n",
       "    <tr>\n",
       "      <th>1</th>\n",
       "      <td>2021-07-08</td>\n",
       "      <td>2021-07-08 11:00:00.000000 UTC</td>\n",
       "      <td>TIRES</td>\n",
       "      <td>1260.0</td>\n",
       "      <td>MRF</td>\n",
       "    </tr>\n",
       "    <tr>\n",
       "      <th>2</th>\n",
       "      <td>2021-07-08</td>\n",
       "      <td>2021-07-08 03:00:00.000000 UTC</td>\n",
       "      <td>TIRES</td>\n",
       "      <td>800.0</td>\n",
       "      <td>MRF</td>\n",
       "    </tr>\n",
       "    <tr>\n",
       "      <th>3</th>\n",
       "      <td>2021-05-01</td>\n",
       "      <td>2021-05-01 12:29:00.000000 UTC</td>\n",
       "      <td>TIRES</td>\n",
       "      <td>760.0</td>\n",
       "      <td>MRF</td>\n",
       "    </tr>\n",
       "    <tr>\n",
       "      <th>4</th>\n",
       "      <td>2021-07-03</td>\n",
       "      <td>2021-07-03 12:09:00.000000 UTC</td>\n",
       "      <td>TIRES</td>\n",
       "      <td>1400.0</td>\n",
       "      <td>MRF</td>\n",
       "    </tr>\n",
       "    <tr>\n",
       "      <th>...</th>\n",
       "      <td>...</td>\n",
       "      <td>...</td>\n",
       "      <td>...</td>\n",
       "      <td>...</td>\n",
       "      <td>...</td>\n",
       "    </tr>\n",
       "    <tr>\n",
       "      <th>26152</th>\n",
       "      <td>2021-03-01</td>\n",
       "      <td>2021-03-01 11:26:00.000000 UTC</td>\n",
       "      <td>ORGANICS</td>\n",
       "      <td>12100.0</td>\n",
       "      <td>ORGANICS BY GOSH</td>\n",
       "    </tr>\n",
       "    <tr>\n",
       "      <th>26153</th>\n",
       "      <td>2021-03-01</td>\n",
       "      <td>2021-03-01 04:27:00.000000 UTC</td>\n",
       "      <td>ORGANICS</td>\n",
       "      <td>10900.0</td>\n",
       "      <td>ORGANICS BY GOSH</td>\n",
       "    </tr>\n",
       "    <tr>\n",
       "      <th>26154</th>\n",
       "      <td>2021-03-01</td>\n",
       "      <td>2021-03-01 05:55:00.000000 UTC</td>\n",
       "      <td>ORGANICS</td>\n",
       "      <td>21800.0</td>\n",
       "      <td>ORGANICS BY GOSH</td>\n",
       "    </tr>\n",
       "    <tr>\n",
       "      <th>26155</th>\n",
       "      <td>2021-03-01</td>\n",
       "      <td>2021-03-02 01:10:00.000000 UTC</td>\n",
       "      <td>ORGANICS</td>\n",
       "      <td>5640.0</td>\n",
       "      <td>ORGANICS BY GOSH</td>\n",
       "    </tr>\n",
       "    <tr>\n",
       "      <th>26156</th>\n",
       "      <td>2021-03-01</td>\n",
       "      <td>2021-03-01 10:22:00.000000 UTC</td>\n",
       "      <td>RECYCLED METAL</td>\n",
       "      <td>360.0</td>\n",
       "      <td>AUSTIN IRON AND METAL</td>\n",
       "    </tr>\n",
       "  </tbody>\n",
       "</table>\n",
       "<p>25712 rows × 5 columns</p>\n",
       "</div>"
      ],
      "text/plain": [
       "      report_date                       load_time       load_type  \\\n",
       "0      2021-07-08  2021-07-08 12:00:00.000000 UTC           TIRES   \n",
       "1      2021-07-08  2021-07-08 11:00:00.000000 UTC           TIRES   \n",
       "2      2021-07-08  2021-07-08 03:00:00.000000 UTC           TIRES   \n",
       "3      2021-05-01  2021-05-01 12:29:00.000000 UTC           TIRES   \n",
       "4      2021-07-03  2021-07-03 12:09:00.000000 UTC           TIRES   \n",
       "...           ...                             ...             ...   \n",
       "26152  2021-03-01  2021-03-01 11:26:00.000000 UTC        ORGANICS   \n",
       "26153  2021-03-01  2021-03-01 04:27:00.000000 UTC        ORGANICS   \n",
       "26154  2021-03-01  2021-03-01 05:55:00.000000 UTC        ORGANICS   \n",
       "26155  2021-03-01  2021-03-02 01:10:00.000000 UTC        ORGANICS   \n",
       "26156  2021-03-01  2021-03-01 10:22:00.000000 UTC  RECYCLED METAL   \n",
       "\n",
       "       load_weight           dropoff_site  \n",
       "0           2260.0                    MRF  \n",
       "1           1260.0                    MRF  \n",
       "2            800.0                    MRF  \n",
       "3            760.0                    MRF  \n",
       "4           1400.0                    MRF  \n",
       "...            ...                    ...  \n",
       "26152      12100.0       ORGANICS BY GOSH  \n",
       "26153      10900.0       ORGANICS BY GOSH  \n",
       "26154      21800.0       ORGANICS BY GOSH  \n",
       "26155       5640.0       ORGANICS BY GOSH  \n",
       "26156        360.0  AUSTIN IRON AND METAL  \n",
       "\n",
       "[25712 rows x 5 columns]"
      ]
     },
     "execution_count": 120,
     "metadata": {},
     "output_type": "execute_result"
    }
   ],
   "source": [
    "# Remove the duplicate data from dataframe\n",
    "df.drop_duplicates()"
   ]
  },
  {
   "cell_type": "code",
   "execution_count": 121,
   "metadata": {},
   "outputs": [
    {
     "data": {
      "text/plain": [
       "report_date      object\n",
       "load_time        object\n",
       "load_type        object\n",
       "load_weight     float64\n",
       "dropoff_site     object\n",
       "dtype: object"
      ]
     },
     "execution_count": 121,
     "metadata": {},
     "output_type": "execute_result"
    }
   ],
   "source": [
    "# Checking the data type of dataframe\n",
    "df.dtypes"
   ]
  },
  {
   "cell_type": "code",
   "execution_count": 122,
   "metadata": {},
   "outputs": [],
   "source": [
    "# Converting report_date and load_time format from 'string' to 'datetime' format\n",
    "df['report_date'] = pd.to_datetime(df['report_date'])\n",
    "df['load_time'] = pd.to_datetime(df['load_time'])"
   ]
  },
  {
   "cell_type": "code",
   "execution_count": 123,
   "metadata": {},
   "outputs": [
    {
     "data": {
      "text/plain": [
       "report_date        0\n",
       "load_time          0\n",
       "load_type          0\n",
       "load_weight     1048\n",
       "dropoff_site       0\n",
       "dtype: int64"
      ]
     },
     "execution_count": 123,
     "metadata": {},
     "output_type": "execute_result"
    }
   ],
   "source": [
    "# Checking the total number of null cell in every column\n",
    "df.isnull().sum()"
   ]
  },
  {
   "cell_type": "code",
   "execution_count": 124,
   "metadata": {},
   "outputs": [
    {
     "name": "stdout",
     "output_type": "stream",
     "text": [
      "load_weight column skewness value = 3.335938213321684\n"
     ]
    },
    {
     "data": {
      "text/plain": [
       "<AxesSubplot:>"
      ]
     },
     "execution_count": 124,
     "metadata": {},
     "output_type": "execute_result"
    },
    {
     "data": {
      "image/png": "[encoded data removed]",
      "text/plain": [
       "<Figure size 432x288 with 1 Axes>"
      ]
     },
     "metadata": {
      "needs_background": "light"
     },
     "output_type": "display_data"
    }
   ],
   "source": [
    "# As result of null counts, 'load_weight' is the only column that contain the null values\n",
    "# Therefore, we only need to manipulate the values of 'load_weight' column\n",
    "# Checking the data skewness of 'load_weight' column\n",
    "print('load_weight column skewness value =', df['load_weight'].skew())\n",
    "df['load_weight'].hist(bins = 100, color = 'cadetblue')"
   ]
  },
  {
   "cell_type": "markdown",
   "metadata": {},
   "source": [
    "`The 'load_weight' column value of skewness is over than 1`\n",
    "<br>\n",
    "`Which indicates the 'load_weight' column is suffering from extreme right skew`\n",
    "<br>\n",
    "`Therefore, median value were used to fill the null values of cell of the corresponding column`"
   ]
  },
  {
   "cell_type": "code",
   "execution_count": 125,
   "metadata": {},
   "outputs": [],
   "source": [
    "# Subtitute the null values in 'load_weight' column with their median \n",
    "df['load_weight'] = df['load_weight'].fillna(df['load_weight'].median())"
   ]
  },
  {
   "cell_type": "markdown",
   "metadata": {},
   "source": [
    "#### 2. Data Exploration"
   ]
  },
  {
   "cell_type": "code",
   "execution_count": 126,
   "metadata": {},
   "outputs": [
    {
     "name": "stdout",
     "output_type": "stream",
     "text": [
      "dropoff_site\n",
      "TDS LANDFILL             10694\n",
      "ORGANICS BY GOSH          5755\n",
      "BALCONES RECYCLING        3837\n",
      "TDS - MRF                 2948\n",
      "HORNSBY BEND              1655\n",
      "ONION CREEK                813\n",
      "MRF                        168\n",
      "ON ROUTE HIGH DUMP          81\n",
      "PARK CENTER                 75\n",
      "GREAT NORTHERN              70\n",
      "AUSTIN IRON AND METAL       50\n",
      "PARK BEND                    4\n",
      "AUSTIN WOOD RECYCLING        2\n",
      "ST. EDWARDS                  1\n",
      "STEINER LANDFILL             1\n",
      "BALCONES WOODS               1\n",
      "WESTFIELD                    1\n",
      "WILCAB                       1\n",
      "dtype: int64\n"
     ]
    }
   ],
   "source": [
    "# Show Site that has the highest traffic level\n",
    "print(df.pivot_table(columns=['dropoff_site'], aggfunc='size').sort_values(ascending = False))"
   ]
  },
  {
   "cell_type": "code",
   "execution_count": 127,
   "metadata": {},
   "outputs": [
    {
     "data": {
      "text/html": [
       "<div>\n",
       "<style scoped>\n",
       "    .dataframe tbody tr th:only-of-type {\n",
       "        vertical-align: middle;\n",
       "    }\n",
       "\n",
       "    .dataframe tbody tr th {\n",
       "        vertical-align: top;\n",
       "    }\n",
       "\n",
       "    .dataframe thead th {\n",
       "        text-align: right;\n",
       "    }\n",
       "</style>\n",
       "<table border=\"1\" class=\"dataframe\">\n",
       "  <thead>\n",
       "    <tr style=\"text-align: right;\">\n",
       "      <th></th>\n",
       "      <th>load_weight</th>\n",
       "    </tr>\n",
       "    <tr>\n",
       "      <th>dropoff_site</th>\n",
       "      <th></th>\n",
       "    </tr>\n",
       "  </thead>\n",
       "  <tbody>\n",
       "    <tr>\n",
       "      <th>TDS LANDFILL</th>\n",
       "      <td>1.622100e+08</td>\n",
       "    </tr>\n",
       "    <tr>\n",
       "      <th>ORGANICS BY GOSH</th>\n",
       "      <td>6.800811e+07</td>\n",
       "    </tr>\n",
       "    <tr>\n",
       "      <th>BALCONES RECYCLING</th>\n",
       "      <td>3.631587e+07</td>\n",
       "    </tr>\n",
       "    <tr>\n",
       "      <th>TDS - MRF</th>\n",
       "      <td>2.910428e+07</td>\n",
       "    </tr>\n",
       "    <tr>\n",
       "      <th>HORNSBY BEND</th>\n",
       "      <td>1.098442e+07</td>\n",
       "    </tr>\n",
       "    <tr>\n",
       "      <th>ONION CREEK</th>\n",
       "      <td>9.186900e+06</td>\n",
       "    </tr>\n",
       "    <tr>\n",
       "      <th>ON ROUTE HIGH DUMP</th>\n",
       "      <td>9.238800e+05</td>\n",
       "    </tr>\n",
       "    <tr>\n",
       "      <th>PARK CENTER</th>\n",
       "      <td>8.475000e+05</td>\n",
       "    </tr>\n",
       "    <tr>\n",
       "      <th>GREAT NORTHERN</th>\n",
       "      <td>8.381200e+05</td>\n",
       "    </tr>\n",
       "    <tr>\n",
       "      <th>MRF</th>\n",
       "      <td>3.023970e+05</td>\n",
       "    </tr>\n",
       "    <tr>\n",
       "      <th>PARK BEND</th>\n",
       "      <td>5.354000e+04</td>\n",
       "    </tr>\n",
       "    <tr>\n",
       "      <th>AUSTIN IRON AND METAL</th>\n",
       "      <td>2.256000e+04</td>\n",
       "    </tr>\n",
       "    <tr>\n",
       "      <th>WESTFIELD</th>\n",
       "      <td>1.602000e+04</td>\n",
       "    </tr>\n",
       "    <tr>\n",
       "      <th>ST. EDWARDS</th>\n",
       "      <td>1.130000e+04</td>\n",
       "    </tr>\n",
       "    <tr>\n",
       "      <th>WILCAB</th>\n",
       "      <td>1.130000e+04</td>\n",
       "    </tr>\n",
       "    <tr>\n",
       "      <th>BALCONES WOODS</th>\n",
       "      <td>8.460000e+03</td>\n",
       "    </tr>\n",
       "    <tr>\n",
       "      <th>AUSTIN WOOD RECYCLING</th>\n",
       "      <td>8.100000e+03</td>\n",
       "    </tr>\n",
       "    <tr>\n",
       "      <th>STEINER LANDFILL</th>\n",
       "      <td>7.800000e+02</td>\n",
       "    </tr>\n",
       "  </tbody>\n",
       "</table>\n",
       "</div>"
      ],
      "text/plain": [
       "                        load_weight\n",
       "dropoff_site                       \n",
       "TDS LANDFILL           1.622100e+08\n",
       "ORGANICS BY GOSH       6.800811e+07\n",
       "BALCONES RECYCLING     3.631587e+07\n",
       "TDS - MRF              2.910428e+07\n",
       "HORNSBY BEND           1.098442e+07\n",
       "ONION CREEK            9.186900e+06\n",
       "ON ROUTE HIGH DUMP     9.238800e+05\n",
       "PARK CENTER            8.475000e+05\n",
       "GREAT NORTHERN         8.381200e+05\n",
       "MRF                    3.023970e+05\n",
       "PARK BEND              5.354000e+04\n",
       "AUSTIN IRON AND METAL  2.256000e+04\n",
       "WESTFIELD              1.602000e+04\n",
       "ST. EDWARDS            1.130000e+04\n",
       "WILCAB                 1.130000e+04\n",
       "BALCONES WOODS         8.460000e+03\n",
       "AUSTIN WOOD RECYCLING  8.100000e+03\n",
       "STEINER LANDFILL       7.800000e+02"
      ]
     },
     "execution_count": 127,
     "metadata": {},
     "output_type": "execute_result"
    }
   ],
   "source": [
    "# Show the dropoff site that has the highest load weight\n",
    "df.groupby(df['dropoff_site']).sum().sort_values('load_weight' ,ascending = False)"
   ]
  },
  {
   "cell_type": "code",
   "execution_count": 128,
   "metadata": {},
   "outputs": [
    {
     "name": "stdout",
     "output_type": "stream",
     "text": [
      "load_type\n",
      "GARBAGE COLLECTIONS          8242\n",
      "RECYCLING - SINGLE STREAM    6760\n",
      "ORGANICS                     5763\n",
      "BULK                         1594\n",
      "BRUSH                        1517\n",
      "SWEEPING                     1390\n",
      "MIXED LITTER                  329\n",
      "TIRES                         175\n",
      "DEAD ANIMAL                   150\n",
      "YARD TRIMMING                 137\n",
      "RECYCLED METAL                 57\n",
      "LITTER                         41\n",
      "CONTAMINATED ORGANICS           1\n",
      "CONTAMINATED RECYCLING          1\n",
      "dtype: int64\n"
     ]
    }
   ],
   "source": [
    "# Show the most frequent load type\n",
    "print(df.pivot_table(columns=['load_type'], aggfunc='size').sort_values(ascending = False))"
   ]
  },
  {
   "cell_type": "markdown",
   "metadata": {},
   "source": [
    "`Explore the top 3 dropoff_site traffic and/or capacity furthermore`"
   ]
  },
  {
   "cell_type": "code",
   "execution_count": 129,
   "metadata": {},
   "outputs": [],
   "source": [
    "# Making dataframe for every dropoff_site\n",
    "df_tds = df[df.dropoff_site == 'TDS LANDFILL'].reset_index()\n",
    "df_obg = df[df.dropoff_site == 'ORGANICS BY GOSH'].reset_index()\n",
    "df_br = df[df.dropoff_site == 'BALCONES RECYCLING'].reset_index()"
   ]
  },
  {
   "cell_type": "code",
   "execution_count": 130,
   "metadata": {},
   "outputs": [],
   "source": [
    "# Making function for maximum, minimum, range, skewness value, and central tendency\n",
    "def CentralTend(data):\n",
    "    print('Maximum =', data.load_weight.max())\n",
    "    print('Minimum =', data.load_weight.min())\n",
    "    print('Range =', data.load_weight.max() - data.load_weight.min())\n",
    "    print('Skewness Value =', data.load_weight.skew())\n",
    "    print('Mean =', data.load_weight.mean())\n",
    "    print('Median =', data.load_weight.median())\n",
    "    print('Mode =', data.load_weight.mode())  "
   ]
  },
  {
   "cell_type": "code",
   "execution_count": 131,
   "metadata": {},
   "outputs": [
    {
     "name": "stdout",
     "output_type": "stream",
     "text": [
      "TDS LANDFILL Central Tendencies\n",
      "Maximum = 245540.0\n",
      "Minimum = 0.0\n",
      "Range = 245540.0\n",
      "Skewness Value = 3.695442376110943\n",
      "Mean = 15168.321726145501\n",
      "Median = 14920.0\n",
      "Mode = 0       20.0\n",
      "1       60.0\n",
      "2    12020.0\n",
      "Name: load_weight, dtype: float64\n",
      "\n",
      "ORGANICS BY GOSH Central Tendencies\n",
      "Maximum = 29660.0\n",
      "Minimum = 20.0\n",
      "Range = 29640.0\n",
      "Skewness Value = 0.05937529539509636\n",
      "Mean = 11817.220851433536\n",
      "Median = 11900.0\n",
      "Mode = 0    11300.0\n",
      "Name: load_weight, dtype: float64\n",
      "\n",
      "BALCONES RECYCLING Central Tendencies\n",
      "Maximum = 25780.0\n",
      "Minimum = 140.0\n",
      "Range = 25640.0\n",
      "Skewness Value = 0.10148179348246143\n",
      "Mean = 9464.652071931196\n",
      "Median = 9840.0\n",
      "Mode = 0    11880.0\n",
      "Name: load_weight, dtype: float64\n"
     ]
    }
   ],
   "source": [
    "print('TDS LANDFILL Central Tendencies')\n",
    "CentralTend(df_tds)\n",
    "\n",
    "print('')\n",
    "\n",
    "print('ORGANICS BY GOSH Central Tendencies')\n",
    "CentralTend(df_obg)\n",
    "\n",
    "print('')\n",
    "\n",
    "print('BALCONES RECYCLING Central Tendencies')\n",
    "CentralTend(df_br)"
   ]
  },
  {
   "cell_type": "markdown",
   "metadata": {},
   "source": [
    "`From a brief data exploration, we can conclude that:`\n",
    "- TDS LANDFILL turns out to be the dropoff_site with the highest traffic and the largest capacity (based on total of load_weight)\n",
    "- The top 5 highest traffic dropoff_site also has the same rank for their capacity (based on total of load_weight)\n",
    "- GARBAGE COLLECTIONS is the most frequent type of load"
   ]
  },
  {
   "cell_type": "markdown",
   "metadata": {},
   "source": [
    "#### 3. Central Tendencies Result\n",
    "`As the result of calculating the central tendencies from the top 3 dropoff_site with the highest traffic and/or capacity:`\n",
    "- TDS LANDFILL has value of skewness above than 1 and mode value that far below than mean and median indicates that the load_weight distribution is leaning towards the minimum value / left side (extreme right skew). Which means, even though TDS LANDFILL has the highest traffic yet capacity but most of the load_weight is relatively small / near to the minimum value. This dropoff_site also has an extremely high value for its load_weight ever recorded.\n",
    "- ORGANICS BY GOSH turns out has value of skewness nearly equal to 0, and very similar mean, median, and mode value. Which indicates that the load_weight distribution has a normal distribution pattern, we can conclude that ORGANICS BY GOSH has an IDEAL value of load_weight by far.\n",
    "- BALCONES RECYCLING has the same result as ORGANICS BY GOSH although it can't be called as THE MOST IDEAL."
   ]
  },
  {
   "cell_type": "markdown",
   "metadata": {},
   "source": [
    "### 4. Choose the most interesting dropoff_site\n",
    "`Base on data exploration, TDS LANDFILL is the most interesting dropoff_site. It is because of their condition and their data distribution that has mentioned before.`"
   ]
  },
  {
   "cell_type": "markdown",
   "metadata": {},
   "source": [
    "### 5. Data Outliers\n",
    "`Because the TDS LANDFILL is suffering from extreme skew, therefore Inter-Quartile Range with extreme value analysis will be performed`"
   ]
  },
  {
   "cell_type": "code",
   "execution_count": 132,
   "metadata": {},
   "outputs": [],
   "source": [
    "# Calculate the quantile 1st and 3rd (Q1 and Q3) in order to obtain IQR values for outliers limitation\n",
    "Q1 = df_tds['load_weight'].quantile(0.25)\n",
    "Q3 = df_tds['load_weight'].quantile(0.75)\n",
    "IQR = Q3 - Q1\n",
    "lower_limit = Q1 - 3*IQR\n",
    "upper_limit = Q3 + 3*IQR"
   ]
  },
  {
   "cell_type": "code",
   "execution_count": 133,
   "metadata": {},
   "outputs": [
    {
     "data": {
      "text/html": [
       "<div>\n",
       "<style scoped>\n",
       "    .dataframe tbody tr th:only-of-type {\n",
       "        vertical-align: middle;\n",
       "    }\n",
       "\n",
       "    .dataframe tbody tr th {\n",
       "        vertical-align: top;\n",
       "    }\n",
       "\n",
       "    .dataframe thead th {\n",
       "        text-align: right;\n",
       "    }\n",
       "</style>\n",
       "<table border=\"1\" class=\"dataframe\">\n",
       "  <thead>\n",
       "    <tr style=\"text-align: right;\">\n",
       "      <th></th>\n",
       "      <th>index</th>\n",
       "      <th>report_date</th>\n",
       "      <th>load_time</th>\n",
       "      <th>load_type</th>\n",
       "      <th>load_weight</th>\n",
       "      <th>dropoff_site</th>\n",
       "    </tr>\n",
       "  </thead>\n",
       "  <tbody>\n",
       "    <tr>\n",
       "      <th>857</th>\n",
       "      <td>2381</td>\n",
       "      <td>2021-03-09</td>\n",
       "      <td>2021-03-09 01:30:00+00:00</td>\n",
       "      <td>GARBAGE COLLECTIONS</td>\n",
       "      <td>145160.0</td>\n",
       "      <td>TDS LANDFILL</td>\n",
       "    </tr>\n",
       "    <tr>\n",
       "      <th>5108</th>\n",
       "      <td>13632</td>\n",
       "      <td>2021-05-26</td>\n",
       "      <td>2021-05-26 11:40:00+00:00</td>\n",
       "      <td>GARBAGE COLLECTIONS</td>\n",
       "      <td>80697.0</td>\n",
       "      <td>TDS LANDFILL</td>\n",
       "    </tr>\n",
       "    <tr>\n",
       "      <th>5187</th>\n",
       "      <td>13817</td>\n",
       "      <td>2021-05-27</td>\n",
       "      <td>2021-05-27 11:33:00+00:00</td>\n",
       "      <td>GARBAGE COLLECTIONS</td>\n",
       "      <td>245540.0</td>\n",
       "      <td>TDS LANDFILL</td>\n",
       "    </tr>\n",
       "    <tr>\n",
       "      <th>6561</th>\n",
       "      <td>16964</td>\n",
       "      <td>2021-06-21</td>\n",
       "      <td>2021-06-21 01:05:00+00:00</td>\n",
       "      <td>GARBAGE COLLECTIONS</td>\n",
       "      <td>227780.0</td>\n",
       "      <td>TDS LANDFILL</td>\n",
       "    </tr>\n",
       "    <tr>\n",
       "      <th>9877</th>\n",
       "      <td>24239</td>\n",
       "      <td>2021-02-09</td>\n",
       "      <td>2021-02-09 01:08:00+00:00</td>\n",
       "      <td>GARBAGE COLLECTIONS</td>\n",
       "      <td>102680.0</td>\n",
       "      <td>TDS LANDFILL</td>\n",
       "    </tr>\n",
       "  </tbody>\n",
       "</table>\n",
       "</div>"
      ],
      "text/plain": [
       "      index report_date                 load_time            load_type  \\\n",
       "857    2381  2021-03-09 2021-03-09 01:30:00+00:00  GARBAGE COLLECTIONS   \n",
       "5108  13632  2021-05-26 2021-05-26 11:40:00+00:00  GARBAGE COLLECTIONS   \n",
       "5187  13817  2021-05-27 2021-05-27 11:33:00+00:00  GARBAGE COLLECTIONS   \n",
       "6561  16964  2021-06-21 2021-06-21 01:05:00+00:00  GARBAGE COLLECTIONS   \n",
       "9877  24239  2021-02-09 2021-02-09 01:08:00+00:00  GARBAGE COLLECTIONS   \n",
       "\n",
       "      load_weight  dropoff_site  \n",
       "857      145160.0  TDS LANDFILL  \n",
       "5108      80697.0  TDS LANDFILL  \n",
       "5187     245540.0  TDS LANDFILL  \n",
       "6561     227780.0  TDS LANDFILL  \n",
       "9877     102680.0  TDS LANDFILL  "
      ]
     },
     "execution_count": 133,
     "metadata": {},
     "output_type": "execute_result"
    }
   ],
   "source": [
    "# Display the data that consider as outliers\n",
    "df_tds[(df_tds.load_weight > upper_limit) | (df_tds.load_weight<lower_limit)] "
   ]
  },
  {
   "cell_type": "code",
   "execution_count": 134,
   "metadata": {},
   "outputs": [
    {
     "name": "stdout",
     "output_type": "stream",
     "text": [
      "Total number of data = 10694\n",
      "Total number of outliers data = 5\n",
      "0.046755189826070694 % of TDS LANDFILL data is consider as outliers\n"
     ]
    }
   ],
   "source": [
    "# Making variables for total number of data and total number of data that considered as outliers data\n",
    "sum_tds = len(df_tds.index)\n",
    "sum_tds_out = len(df_tds[(df_tds.load_weight > upper_limit) | (df_tds.load_weight<lower_limit)].index)\n",
    "print('Total number of data =', sum_tds)\n",
    "print('Total number of outliers data =', sum_tds_out)\n",
    "print( sum_tds_out/sum_tds * 100 , '% of TDS LANDFILL data is consider as outliers')"
   ]
  },
  {
   "cell_type": "code",
   "execution_count": 135,
   "metadata": {},
   "outputs": [],
   "source": [
    "# Making new dataframe that contain no outliers\n",
    "df_tds_no = df_tds[~(df_tds.load_weight < lower_limit) & ~(df_tds.load_weight > upper_limit)]\n"
   ]
  },
  {
   "cell_type": "code",
   "execution_count": 136,
   "metadata": {},
   "outputs": [
    {
     "name": "stdout",
     "output_type": "stream",
     "text": [
      "Before Filtering\n",
      "Maximum = 245540.0\n",
      "Minimum = 0.0\n",
      "Range = 245540.0\n",
      "Skewness Value = 3.695442376110943\n",
      "Mean = 15168.321726145501\n",
      "Median = 14920.0\n",
      "Mode = 0       20.0\n",
      "1       60.0\n",
      "2    12020.0\n",
      "Name: load_weight, dtype: float64\n",
      "\n",
      "After Filtering\n",
      "Maximum = 58600.0\n",
      "Minimum = 0.0\n",
      "Range = 58600.0\n",
      "Skewness Value = 0.03689458913684588\n",
      "Mean = 15100.399994330619\n",
      "Median = 14920.0\n",
      "Mode = 0       20.0\n",
      "1       60.0\n",
      "2    12020.0\n",
      "Name: load_weight, dtype: float64\n"
     ]
    }
   ],
   "source": [
    "# Central Tendencies Comparison of Before and After Outliers Filtering\n",
    "print('Before Filtering')\n",
    "CentralTend(df_tds)\n",
    "\n",
    "print('')\n",
    "\n",
    "print('After Filtering')\n",
    "CentralTend(df_tds_no)"
   ]
  },
  {
   "cell_type": "markdown",
   "metadata": {},
   "source": [
    "`The value of skewness from TDS LANDFILL has reduced to the point where it is considered as normal distribution.`"
   ]
  },
  {
   "cell_type": "markdown",
   "metadata": {},
   "source": [
    "### 6. Range, Variance, and Standard Deviation"
   ]
  },
  {
   "cell_type": "code",
   "execution_count": 137,
   "metadata": {},
   "outputs": [
    {
     "name": "stdout",
     "output_type": "stream",
     "text": [
      "Range = 58600.0\n",
      "Variance = 61925004.745981306\n",
      "Standard deviation = 7869.244229656448\n",
      "About 68.2% of load_weight is around  7231.155764674171 to 22969.644223987067\n",
      "About 95.4% of load_weight is around  0 to 30838.888453643514\n"
     ]
    }
   ],
   "source": [
    "print('Range =', df_tds_no.load_weight.max() - df_tds_no.load_weight.min())\n",
    "print('Variance =', df_tds_no.load_weight.var())\n",
    "print('Standard deviation =', df_tds_no.load_weight.std())\n",
    "print('About 68.2% of load_weight is around ', max(df_tds_no.load_weight.mean() - df_tds_no.load_weight.std(),0), 'to', df_tds_no.load_weight.mean() + df_tds_no.load_weight.std())\n",
    "print('About 95.4% of load_weight is around ', max(df_tds_no.load_weight.mean() - 2*df_tds_no.load_weight.std(),0), 'to', df_tds_no.load_weight.mean() + 2*df_tds_no.load_weight.std())"
   ]
  },
  {
   "cell_type": "markdown",
   "metadata": {},
   "source": [
    "`Most of the time, TDS LANDFILL daily load_weight is around 7231.15 to 22969.64 and sometimes they are hit 0 to 30838.89 for a day.  The highest load_weight ever recorded in a day is 58600. And the most frequent load_weight for a day is 20, 60, and 12020.`"
   ]
  },
  {
   "cell_type": "markdown",
   "metadata": {},
   "source": [
    "### 7. Goverment Recommendations for new dropoff_site criteria"
   ]
  },
  {
   "cell_type": "code",
   "execution_count": 142,
   "metadata": {},
   "outputs": [],
   "source": [
    "# Making function for confidence interval calculation with alpha = 0.05\n",
    "def mean_confidence_interval(data, confidence=0.95):\n",
    "    n = len(data)\n",
    "    m, se = np.mean(data), scipy.stats.sem(data)\n",
    "    h = se * scipy.stats.t.ppf((1 + confidence) / 2., n-1)\n",
    "    return m, m-h, m+h"
   ]
  },
  {
   "cell_type": "code",
   "execution_count": 144,
   "metadata": {},
   "outputs": [
    {
     "data": {
      "text/plain": [
       "(15100.399994330619, 14951.20242040471, 15249.597568256528)"
      ]
     },
     "execution_count": 144,
     "metadata": {},
     "output_type": "execute_result"
    }
   ],
   "source": [
    "mean_confidence_interval(df_tds_no.load_weight)"
   ]
  },
  {
   "cell_type": "markdown",
   "metadata": {},
   "source": [
    "`Therefore I recommend the goverment to build a new dropoff_site that able to receive daily load_weight from 14951.20 to 15249.597`\n",
    "`The reason why I use dataframe from a clean dataframe that contain no outliers is because I want a value number that represents the whole population without messing up their mean with extreme value of outliers.`"
   ]
  },
  {
   "cell_type": "markdown",
   "metadata": {},
   "source": [
    "### 8. Hyphotesis Testing\n",
    "H0 = TDS LANDFILL is able to represent the whole dataset\n",
    "<br>\n",
    "H1 = TDS LANDFILL is unable to represent the whole dataset"
   ]
  },
  {
   "cell_type": "code",
   "execution_count": 208,
   "metadata": {},
   "outputs": [
    {
     "name": "stdout",
     "output_type": "stream",
     "text": [
      "P-value = 5.195518790556708e-261 %\n"
     ]
    }
   ],
   "source": [
    "t_stat, p_val = stats.ttest_ind(df_tds_no['load_weight'], df['load_weight'] )\n",
    "print('P-value =', p_val*100, '%')"
   ]
  },
  {
   "cell_type": "markdown",
   "metadata": {},
   "source": [
    "`P-value represent statistical error`\n",
    "<br>\n",
    "`Statistical Error between TDS LANDFILL (filtered) and the whole dataset is nearly zero`\n",
    "<br>\n",
    "`This means that the TDS LANDFILL dataset is able to represent the whole dataset`"
   ]
  }
 ],
 "metadata": {
  "kernelspec": {
   "display_name": "Python 3.9.12 ('base')",
   "language": "python",
   "name": "python3"
  },
  "language_info": {
   "codemirror_mode": {
    "name": "ipython",
    "version": 3
   },
   "file_extension": ".py",
   "mimetype": "text/x-python",
   "name": "python",
   "nbconvert_exporter": "python",
   "pygments_lexer": "ipython3",
   "version": "3.9.13 (main, Aug 25 2022, 23:51:50) [MSC v.1916 64 bit (AMD64)]"
  },
  "orig_nbformat": 4,
  "vscode": {
   "interpreter": {
    "hash": "db73a3f725d25edc1898cf086846c00279f921a2aff9b8dd881a6ae47174c5ed"
   }
  }
 },
 "nbformat": 4,
 "nbformat_minor": 2
}
